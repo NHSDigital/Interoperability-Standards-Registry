{
 "cells": [
  {
   "cell_type": "code",
   "execution_count": 39,
   "id": "a2350599-c54d-4735-a639-a772238cf281",
   "metadata": {
    "scrolled": true
   },
   "outputs": [
    {
     "name": "stdout",
     "output_type": "stream",
     "text": [
      "DICT:{<a href=\"https://simplifier.net/organization/hl7uk\">HL7 UK</a>: [{'<a href=https://simplifier.net/HL7FHIRUKCoreR4>HL7 FHIR® UK Core R4</a>': ['Project for HL7 FHIR® UK Core  R4', [('UK Core Implementation Guide 2.0.1 - STU2 Sequence', 'https://simplifier.net/guide/uk-core-implementation-guide-stu2', 'The UK Core for STU2 Sequence ballot, by HL7 UK'), ('UK Core Implementation Guide STU3 Sequence', 'https://simplifier.net/guide/uk-core-implementation-guide-stu3-sequence', 'Development build of the UK Core for STU3 Sequence '), ('UK Core Hazard Log', 'https://simplifier.net/guide/uk-core-hazard-log', 'This generic hazard logs captures the generic hazards for the UK Core.'), ('UK Core Implementation Guidance Directory', 'https://simplifier.net/guide/uk-core-implementation-guidance-directory', 'This guide provides a directory of information and guidance that will assist implementers of the UK Core.'), ('UK Core Implementation Guide 1.0.0 - STU1', 'https://simplifier.net/guide/uk-core-implementation-guide', 'Release 1.0.0 of the UK Core for STU1 Sequence following completion of HL7 UK Ballot 1'), ('UK Core Implementation Guide Assets in Development', 'https://simplifier.net/guide/ukcoreimplementationguideassetsindevelopment', 'This guide identifies those FHIR Assets that are in development and have not yet been through the UK Core Clinical and Technical Assurance process.'), ('HL7 FHIR® UK Core Design and Development Approach', 'https://simplifier.net/guide/hl7fhirukcoredesignanddevelopmentapproach', 'A guide outlining the design and development approach adopted for the UK Core.'), ('UK Core Clinical and Technical Assurance Sprint 7 Documentation Pack', 'https://simplifier.net/guide/ukcoreclinicalandtechnicalassurancedocumentationpack', 'This is the documentation pack for Sprint 7 of the UK Core Clinical and Technical Assurance.'), ('UK Core Publication (Version) History', 'https://simplifier.net/guide/ukcoreversionhistory', 'Version history and development sequences for the UK Core')]]}], <a href=\"https://simplifier.net/organization/nhsdigital\">NHS England</a>: [{'<a href=https://simplifier.net/nhs-england-implementation-guide>NHS England Implementation Guide</a>': ['A UK Core derived Implementation Guide', [('NHS England Implementation Guide Version History', 'https://simplifier.net/guide/nhs-england-implementation-guide-version-history', 'No description'), ('NHS England Naming Systems', 'https://simplifier.net/guide/nhs-england-naming-systems', 'No description'), ('NHS England Implementation Guidance Directory', 'https://simplifier.net/guide/nhs-england-implementation-guidance-directory', 'No description'), ('NHS England Design and Development Approach', 'https://simplifier.net/guide/nhs-england-design-and-development-approach', 'FHIR Implementation Guide Template 2.0'), ('NHS England Implementation Guide 1.2.0 - STU1', 'https://simplifier.net/guide/nhs-england-implementation-guide-stu1', 'No description'), ('NHS England IG Clinical and Technical Assurance Sprint 2 Documentation Pack', 'https://simplifier.net/guide/nhs-england-ig-clinical-and-technical-assurance-doc-pack', 'No description')]]}, {'<a href=https://simplifier.net/NHS-England-Programme-Implementation-Guides>NHS England Programme Implementation Guides</a>': ['A project for NHS England FHIR R4 Implementation Guides', [('National Proxy Service', 'https://simplifier.net/guide/national-proxy-service', 'No description'), ('Directory of Service (Interoperability Standard)', 'https://simplifier.net/guide/directory-of-service', 'A standard developed for service directories'), ('(Alpha) NHS England Demographics Implementation Guide', 'https://simplifier.net/guide/nhs-england-demographics-implementation-guide', 'No description'), ('Patient Flag Implementation Guide - Alpha', 'https://simplifier.net/guide/patientflag', \"UK Coe styled base project for NHSE API IG's\"), ('Multi-cancer Early Detection', 'https://simplifier.net/guide/multicancerearlydetection', 'No description'), ('Child Protection - Information Sharing (CP-IS) API Producer Implementation Guidance', 'https://simplifier.net/guide/child-protection---information-sharing--cp-is--api-producer-impl', 'FHIR Implementation Guide defining Child Protection - Information Sharing (CP-IS) API Producer (Server) application requirements and specification'), ('Child Protection - Information Sharing (CP-IS) API Consumer Implementation Guidance', 'https://simplifier.net/guide/child-protection---information-sharing--cp-is--api-consumer-impl', 'FHIR Implementation Guide defining Child Protection - Information Sharing (CP-IS) API Consumer (Client) application requirements and specification'), ('Female Genital Mutilation - Information Sharing (FGM-IS) API Implementation Guidance', 'https://simplifier.net/guide/female-genital-mutilation-implementation-guide2', 'FHIR Implementation Guide Template'), ('Organisation Data Service (ODS) Implementation Guide', 'https://simplifier.net/guide/organisation-data-services', 'No description'), ('Pathology FHIR Implementation Guide', 'https://simplifier.net/guide/pathology-fhir-implementation-guide', 'No description')]]}]}\n"
     ]
    },
    {
     "ename": "IndexError",
     "evalue": "list index out of range",
     "output_type": "error",
     "traceback": [
      "\u001b[0;31m---------------------------------------------------------------------------\u001b[0m",
      "\u001b[0;31mIndexError\u001b[0m                                Traceback (most recent call last)",
      "Cell \u001b[0;32mIn[39], line 128\u001b[0m\n\u001b[1;32m    126\u001b[0m \u001b[38;5;28;01mfor\u001b[39;00m org, guides \u001b[38;5;129;01min\u001b[39;00m guides_dict\u001b[38;5;241m.\u001b[39mitems():\n\u001b[1;32m    127\u001b[0m     \u001b[38;5;28;01mif\u001b[39;00m \u001b[38;5;124m'\u001b[39m\u001b[38;5;124muk\u001b[39m\u001b[38;5;124m'\u001b[39m \u001b[38;5;129;01min\u001b[39;00m org\u001b[38;5;241m.\u001b[39mtext\u001b[38;5;241m.\u001b[39mlower() \u001b[38;5;129;01mand\u001b[39;00m \u001b[38;5;124m'\u001b[39m\u001b[38;5;124mstu\u001b[39m\u001b[38;5;124m'\u001b[39m \u001b[38;5;129;01mnot\u001b[39;00m \u001b[38;5;129;01min\u001b[39;00m org\u001b[38;5;241m.\u001b[39mtext\u001b[38;5;241m.\u001b[39mlower():\n\u001b[0;32m--> 128\u001b[0m         guides[\u001b[38;5;241m1\u001b[39m] \u001b[38;5;241m=\u001b[39m sort_ukcore(\u001b[43mguides\u001b[49m\u001b[43m[\u001b[49m\u001b[38;5;241;43m1\u001b[39;49m\u001b[43m]\u001b[49m)\n\u001b[1;32m    129\u001b[0m     guides_to_html(org, guides)\n",
      "\u001b[0;31mIndexError\u001b[0m: list index out of range"
     ]
    }
   ],
   "source": [
    "# -*- coding: utf-8 -*-\n",
    "from selenium import webdriver\n",
    "from selenium.webdriver.common.keys import Keys\n",
    "from selenium.webdriver.common.by import By\n",
    "from selenium.common.exceptions import TimeoutException\n",
    "from selenium.webdriver.support.ui import WebDriverWait\n",
    "from selenium.webdriver.support import expected_conditions as EC\n",
    "from bs4 import BeautifulSoup\n",
    "from asset_scraper import get_variables\n",
    "import os\n",
    "\n",
    "'''\n",
    "Scrapes any project within the main_variables.json file, output is an html page within the registry that includes each IG's title, url, and decription.\n",
    "Uses Selenium due to needing to wait until the guides are loaded on the website\n",
    "\n",
    "DOCS\n",
    "https://www.selenium.dev/selenium/docs/api/py/index.html\n",
    "https://www.crummy.com/software/BeautifulSoup/bs4/doc/\n",
    "'''\n",
    "\n",
    "\n",
    "def get_guides(url):\n",
    "    ''' Opens Simplifier Guides page for a project and scrapes all IGs for title, url and description. Note that as this does not include login details no private IGS are scraped'''\n",
    "    driver = webdriver.Firefox()\n",
    "    driver.get(url)\n",
    "    \n",
    "    # This waits until the urls are loaded before getting webpage which are under class=\"guides-table-row\"\n",
    "    timeout = 5\n",
    "    try:\n",
    "        element_present = EC.presence_of_element_located((By.CLASS_NAME, 'guides-table-row')) # Ensure the relative urls are loaded before getting page\n",
    "        WebDriverWait(driver, timeout).until(element_present)\n",
    "    except TimeoutException:\n",
    "        print (\"Timed out waiting for page to load\")\n",
    "\n",
    "    soup = BeautifulSoup(driver.page_source, 'html.parser')\n",
    "    driver.close()\n",
    "    return soup\n",
    "\n",
    "def get_attributes(soup, url, guides_dict):\n",
    "    ''' uses soup results to find header info and guides info. Output is guides_dict in the form {Organisation_name[0]:[description,[project_name[0]:description,[(guide_name[0], guide_relative_url[0], guide description[0]),(...)], ...],...]}. Note that as this does not include login details so no private IGS are scraped'''\n",
    "    header = soup.find(\"header\")\n",
    "    organization = header.find(\"div\", class_=\"pre-title\").find(\"a\")\n",
    "    project = '<a href='+url+'>'+header.find(\"h1\", class_=\"title\").text.strip()+'</a>'\n",
    "    project_description = header.find(\"div\", class_=\"description\").text.strip()\n",
    "\n",
    "    results = soup.find(id=\"guides\")\n",
    "    \n",
    "    title_elements = results.find_all(\"div\", class_=\"title\")\n",
    "    desc_elements = results.find_all(\"div\", class_=\"description\")\n",
    "    relative_urls = [tr['data-url'] for tr in results.find_all(\"tr\", class_=\"guides-table-row\")]\n",
    "\n",
    "    titles = []\n",
    "    for title in title_elements:\n",
    "        titles.append(title.text.strip()) # strips all \\n and whitespace\n",
    "\n",
    "    descriptions = []\n",
    "    for description in desc_elements:\n",
    "        descriptions.append(description.text)\n",
    "    \n",
    "    prefix = 'https://simplifier.net'\n",
    "    relative_urls = [prefix+x.split('?')[0] for x in relative_urls] #adds prefix and removes ?version=current so that guide opens with 'default'\n",
    "\n",
    "    guides = list(zip(titles,relative_urls, descriptions))\n",
    "    if organization not in guides_dict.keys():\n",
    "        guides_dict.update({organization:[{project:[project_description,guides]}]})\n",
    "    else:\n",
    "        guides_dict[organization].append({project:[project_description,guides]})\n",
    "    return guides_dict\n",
    "\n",
    "def sort_ukcore(guides):\n",
    "    ''' used to ensure latest uk core stu version is shown at the top '''\n",
    "    igs = []\n",
    "    other_guides = []\n",
    "    for tup in guides:\n",
    "        if 'implementation' in tup[0].lower() and 'development' not in tup[0].lower():\n",
    "            igs.append(tup)\n",
    "        else:\n",
    "            other_guides.append(tup)\n",
    "    igs = sorted(igs,reverse=True)\n",
    "    other_guides = sorted(other_guides)\n",
    "    guides = igs+other_guides\n",
    "    return guides\n",
    "\n",
    "\n",
    "'''\n",
    "#### Create webpage ####\n",
    "This creates the html for the page. Note: it is hard to read, Flask is potentially a better way '''\n",
    "\n",
    "path = './guides/Interoperability-Standard-Registry-Guide/About-Interoperability/FHIR-Guides/'\n",
    "\n",
    "def guides_to_html(org, guides):\n",
    "    page = path+'/'+org.text+'.page.md'\n",
    "    if os.path.exists(page):\n",
    "        os.remove(page)\n",
    "    md_file = open(page,\"w\")\n",
    "    print(f'''\n",
    "<div class=\"container-nhs-pale-grey\">\n",
    "\n",
    "## {org}\n",
    "{guides[0]}\n",
    "\n",
    "</div>\n",
    "<br>\n",
    "<div class=\"col-grid\">\n",
    "''',file=md_file)\n",
    "    for guide in guides[1]:\n",
    "        print(f'''\n",
    "<div class=\"col-grid-content\">\n",
    "<div class=\"col-grid-body\">\n",
    "    <h4 class=\"col-grid-title\"><b><a href=\"{guide[1]}\">{guide[0]}</a></b></h4>\n",
    "    <p class=\"col-grid-text\">{guide[2]}</p>\n",
    "</div>\n",
    "</div>\n",
    "''',file=md_file)\n",
    "    print(\"</div>\\n\\n---\",file=md_file)\n",
    "\n",
    "repo_to_url = get_variables('main_variables.json', 'repo_to_url')\n",
    "project_urls = repo_to_url.values()\n",
    "\n",
    "guides_dict = {}\n",
    "for url in project_urls:\n",
    "    soup = get_guides(url+'/~guides')\n",
    "    guides_dict = get_attributes(soup, url, guides_dict)\n",
    "\n",
    "print(f\"DICT:{guides_dict}\")\n",
    "for org, guides in guides_dict.items():\n",
    "    if 'uk' in org.text.lower() and 'stu' not in org.text.lower():\n",
    "        guides[1] = sort_ukcore(guides[1])\n",
    "    guides_to_html(org, guides)\n"
   ]
  },
  {
   "cell_type": "code",
   "execution_count": 2,
   "id": "fb5b3469-bc9f-4cfe-bb78-7b8a05b8e6e6",
   "metadata": {},
   "outputs": [],
   "source": [
    "for k, v in guides_dict.items():\n",
    "    if 'uk core' in k.text.lower() and 'stu' not in k.text.lower():\n",
    "        guides[1] = sort_ukcore(guides[1])"
   ]
  },
  {
   "cell_type": "code",
   "execution_count": 16,
   "id": "3d6d7f8c-338a-4b94-9e04-65915040fd7f",
   "metadata": {},
   "outputs": [
    {
     "name": "stdout",
     "output_type": "stream",
     "text": [
      "<a href=\"https://simplifier.net/organization/hl7uk\">HL7 UK</a>\n",
      "<a href=\"https://simplifier.net/organization/nhsdigital\">NHS England</a>\n"
     ]
    }
   ],
   "source": [
    "for org, guides in guides_dict.items():\n",
    "    print(org)\n",
    "    if 'uk' in org.text.lower() and 'stu' not in org.text.lower():\n",
    "        guides[1] = sort_ukcore(guides[1])"
   ]
  },
  {
   "cell_type": "code",
   "execution_count": 27,
   "id": "ad061e18-edd7-4120-a917-a5685a91e02d",
   "metadata": {},
   "outputs": [
    {
     "data": {
      "text/plain": [
       "['Query',\n",
       " [('UK Core Implementation Guide STU3 Sequence',\n",
       "   'https://simplifier.net/guide/uk-core-implementation-guide-stu3-sequence',\n",
       "   'Development build of the UK Core for STU3 Sequence '),\n",
       "  ('UK Core Implementation Guide 2.0.1 - STU2 Sequence',\n",
       "   'https://simplifier.net/guide/uk-core-implementation-guide-stu2',\n",
       "   'The UK Core for STU2 Sequence ballot, by HL7 UK'),\n",
       "  ('UK Core Implementation Guide 1.0.0 - STU1',\n",
       "   'https://simplifier.net/guide/uk-core-implementation-guide',\n",
       "   'Release 1.0.0 of the UK Core for STU1 Sequence following completion of HL7 UK Ballot 1'),\n",
       "  ('UK Core Implementation Guidance Directory',\n",
       "   'https://simplifier.net/guide/uk-core-implementation-guidance-directory',\n",
       "   'This guide provides a directory of information and guidance that will assist implementers of the UK Core.'),\n",
       "  ('HL7 FHIR® UK Core Design and Development Approach',\n",
       "   'https://simplifier.net/guide/hl7fhirukcoredesignanddevelopmentapproach',\n",
       "   'A guide outlining the design and development approach adopted for the UK Core.'),\n",
       "  ('UK Core Clinical and Technical Assurance Sprint 7 Documentation Pack',\n",
       "   'https://simplifier.net/guide/ukcoreclinicalandtechnicalassurancedocumentationpack',\n",
       "   'This is the documentation pack for Sprint 7 of the UK Core Clinical and Technical Assurance.'),\n",
       "  ('UK Core Hazard Log',\n",
       "   'https://simplifier.net/guide/uk-core-hazard-log',\n",
       "   'This generic hazard logs captures the generic hazards for the UK Core.'),\n",
       "  ('UK Core Implementation Guide Assets in Development',\n",
       "   'https://simplifier.net/guide/ukcoreimplementationguideassetsindevelopment',\n",
       "   'This guide identifies those FHIR Assets that are in development and have not yet been through the UK Core Clinical and Technical Assurance process.'),\n",
       "  ('UK Core Publication (Version) History',\n",
       "   'https://simplifier.net/guide/ukcoreversionhistory',\n",
       "   'Version history and development sequences for the UK Core')]]"
      ]
     },
     "execution_count": 27,
     "metadata": {},
     "output_type": "execute_result"
    }
   ],
   "source": [
    "guides_dict[list(guides_dict.keys())[0]]"
   ]
  },
  {
   "cell_type": "code",
   "execution_count": 33,
   "id": "12e808f7-27d5-4b2e-af00-8394dd689059",
   "metadata": {},
   "outputs": [
    {
     "ename": "KeyError",
     "evalue": "'<a href=\"https://simplifier.net/organization/hl7uk\">HL7 UK</a>'",
     "output_type": "error",
     "traceback": [
      "\u001b[0;31m---------------------------------------------------------------------------\u001b[0m",
      "\u001b[0;31mKeyError\u001b[0m                                  Traceback (most recent call last)",
      "Cell \u001b[0;32mIn[33], line 1\u001b[0m\n\u001b[0;32m----> 1\u001b[0m \u001b[43mguides_dict\u001b[49m\u001b[43m[\u001b[49m\u001b[38;5;124;43m'\u001b[39;49m\u001b[38;5;124;43m<a href=\u001b[39;49m\u001b[38;5;124;43m\"\u001b[39;49m\u001b[38;5;124;43mhttps://simplifier.net/organization/hl7uk\u001b[39;49m\u001b[38;5;124;43m\"\u001b[39;49m\u001b[38;5;124;43m>HL7 UK</a>\u001b[39;49m\u001b[38;5;124;43m'\u001b[39;49m\u001b[43m]\u001b[49m\n",
      "\u001b[0;31mKeyError\u001b[0m: '<a href=\"https://simplifier.net/organization/hl7uk\">HL7 UK</a>'"
     ]
    }
   ],
   "source": [
    "guides_dict['<a href=\"https://simplifier.net/organization/hl7uk\">HL7 UK</a>']"
   ]
  },
  {
   "cell_type": "code",
   "execution_count": 35,
   "id": "1a6541a3-342d-4951-9fc0-bcad48f85c67",
   "metadata": {},
   "outputs": [],
   "source": [
    "d = {'a':[{'A':['AA',('aa','bb')]}]}\n",
    "#{organization:[{project:[project_description,guides]}]}"
   ]
  },
  {
   "cell_type": "code",
   "execution_count": 37,
   "id": "d3b59b5f-a1bd-42ec-8aa4-2c5025e050f8",
   "metadata": {},
   "outputs": [],
   "source": [
    "d['org'].append({'project': ['proj_dec', ('aa', 'bb')]})"
   ]
  },
  {
   "cell_type": "code",
   "execution_count": 38,
   "id": "32716378-bf3a-4d8c-bb0d-c452285bf488",
   "metadata": {},
   "outputs": [
    {
     "data": {
      "text/plain": [
       "{'a': [{'A': ['AA', ('aa', 'bb')]}, {'B': ['BB', ('aa', 'bb')]}]}"
      ]
     },
     "execution_count": 38,
     "metadata": {},
     "output_type": "execute_result"
    }
   ],
   "source": [
    "d"
   ]
  },
  {
   "cell_type": "code",
   "execution_count": null,
   "id": "3ed17442-1557-48fd-a04a-a963e2152178",
   "metadata": {},
   "outputs": [],
   "source": []
  }
 ],
 "metadata": {
  "kernelspec": {
   "display_name": "Python 3 (ipykernel)",
   "language": "python",
   "name": "python3"
  },
  "language_info": {
   "codemirror_mode": {
    "name": "ipython",
    "version": 3
   },
   "file_extension": ".py",
   "mimetype": "text/x-python",
   "name": "python",
   "nbconvert_exporter": "python",
   "pygments_lexer": "ipython3",
   "version": "3.12.4"
  }
 },
 "nbformat": 4,
 "nbformat_minor": 5
}
